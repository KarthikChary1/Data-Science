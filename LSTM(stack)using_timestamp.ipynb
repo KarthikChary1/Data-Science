{
  "nbformat": 4,
  "nbformat_minor": 0,
  "metadata": {
    "colab": {
      "name": "LSTM(stack).ipynb",
      "provenance": [],
      "collapsed_sections": [],
      "authorship_tag": "ABX9TyObhy8xL6oYgbEAlWMmYGhG",
      "include_colab_link": true
    },
    "kernelspec": {
      "name": "python3",
      "display_name": "Python 3"
    },
    "accelerator": "TPU"
  },
  "cells": [
    {
      "cell_type": "markdown",
      "metadata": {
        "id": "view-in-github",
        "colab_type": "text"
      },
      "source": [
        "<a href=\"https://colab.research.google.com/github/KarthikChary1/Data-Science/blob/master/LSTM(stack)using_timestamp.ipynb\" target=\"_parent\"><img src=\"https://colab.research.google.com/assets/colab-badge.svg\" alt=\"Open In Colab\"/></a>"
      ]
    },
    {
      "cell_type": "code",
      "metadata": {
        "id": "DSrRYm6ILmpx",
        "colab_type": "code",
        "colab": {
          "base_uri": "https://localhost:8080/",
          "height": 71
        },
        "outputId": "273ba429-12c9-48b8-f424-56b1738cd336"
      },
      "source": [
        "import pandas_datareader as pdr\n",
        "import numpy\n"
      ],
      "execution_count": null,
      "outputs": [
        {
          "output_type": "stream",
          "text": [
            "/usr/local/lib/python3.6/dist-packages/pandas_datareader/compat/__init__.py:7: FutureWarning: pandas.util.testing is deprecated. Use the functions in the public API at pandas.testing instead.\n",
            "  from pandas.util.testing import assert_frame_equal\n"
          ],
          "name": "stderr"
        }
      ]
    },
    {
      "cell_type": "code",
      "metadata": {
        "id": "racOiGcHc3iz",
        "colab_type": "code",
        "colab": {}
      },
      "source": [
        "data=pdr.get_data_tiingo(\"AAPL\",api_key=\"\")"
      ],
      "execution_count": null,
      "outputs": []
    },
    {
      "cell_type": "code",
      "metadata": {
        "id": "DX7LLdsgdIgm",
        "colab_type": "code",
        "colab": {
          "base_uri": "https://localhost:8080/",
          "height": 235
        },
        "outputId": "8c6765e8-e8b5-4813-faf3-c8c8279064ca"
      },
      "source": [
        "data.head()"
      ],
      "execution_count": null,
      "outputs": [
        {
          "output_type": "execute_result",
          "data": {
            "text/html": [
              "<div>\n",
              "<style scoped>\n",
              "    .dataframe tbody tr th:only-of-type {\n",
              "        vertical-align: middle;\n",
              "    }\n",
              "\n",
              "    .dataframe tbody tr th {\n",
              "        vertical-align: top;\n",
              "    }\n",
              "\n",
              "    .dataframe thead th {\n",
              "        text-align: right;\n",
              "    }\n",
              "</style>\n",
              "<table border=\"1\" class=\"dataframe\">\n",
              "  <thead>\n",
              "    <tr style=\"text-align: right;\">\n",
              "      <th></th>\n",
              "      <th></th>\n",
              "      <th>close</th>\n",
              "      <th>high</th>\n",
              "      <th>low</th>\n",
              "      <th>open</th>\n",
              "      <th>volume</th>\n",
              "      <th>adjClose</th>\n",
              "      <th>adjHigh</th>\n",
              "      <th>adjLow</th>\n",
              "      <th>adjOpen</th>\n",
              "      <th>adjVolume</th>\n",
              "      <th>divCash</th>\n",
              "      <th>splitFactor</th>\n",
              "    </tr>\n",
              "    <tr>\n",
              "      <th>symbol</th>\n",
              "      <th>date</th>\n",
              "      <th></th>\n",
              "      <th></th>\n",
              "      <th></th>\n",
              "      <th></th>\n",
              "      <th></th>\n",
              "      <th></th>\n",
              "      <th></th>\n",
              "      <th></th>\n",
              "      <th></th>\n",
              "      <th></th>\n",
              "      <th></th>\n",
              "      <th></th>\n",
              "    </tr>\n",
              "  </thead>\n",
              "  <tbody>\n",
              "    <tr>\n",
              "      <th rowspan=\"5\" valign=\"top\">AAPL</th>\n",
              "      <th>2015-08-03 00:00:00+00:00</th>\n",
              "      <td>118.44</td>\n",
              "      <td>122.57</td>\n",
              "      <td>117.520</td>\n",
              "      <td>121.50</td>\n",
              "      <td>69975968</td>\n",
              "      <td>109.145232</td>\n",
              "      <td>112.951123</td>\n",
              "      <td>108.297430</td>\n",
              "      <td>111.965093</td>\n",
              "      <td>69975968</td>\n",
              "      <td>0.00</td>\n",
              "      <td>1.0</td>\n",
              "    </tr>\n",
              "    <tr>\n",
              "      <th>2015-08-04 00:00:00+00:00</th>\n",
              "      <td>114.64</td>\n",
              "      <td>117.70</td>\n",
              "      <td>113.250</td>\n",
              "      <td>117.42</td>\n",
              "      <td>124138623</td>\n",
              "      <td>105.643443</td>\n",
              "      <td>108.463304</td>\n",
              "      <td>104.362525</td>\n",
              "      <td>108.205278</td>\n",
              "      <td>124138623</td>\n",
              "      <td>0.00</td>\n",
              "      <td>1.0</td>\n",
              "    </tr>\n",
              "    <tr>\n",
              "      <th>2015-08-05 00:00:00+00:00</th>\n",
              "      <td>115.40</td>\n",
              "      <td>117.44</td>\n",
              "      <td>112.100</td>\n",
              "      <td>112.95</td>\n",
              "      <td>98384461</td>\n",
              "      <td>106.343801</td>\n",
              "      <td>108.223708</td>\n",
              "      <td>103.302773</td>\n",
              "      <td>104.086068</td>\n",
              "      <td>98384461</td>\n",
              "      <td>0.00</td>\n",
              "      <td>1.0</td>\n",
              "    </tr>\n",
              "    <tr>\n",
              "      <th>2015-08-06 00:00:00+00:00</th>\n",
              "      <td>115.13</td>\n",
              "      <td>116.50</td>\n",
              "      <td>114.115</td>\n",
              "      <td>115.97</td>\n",
              "      <td>52903040</td>\n",
              "      <td>106.574181</td>\n",
              "      <td>107.842371</td>\n",
              "      <td>105.634610</td>\n",
              "      <td>107.351757</td>\n",
              "      <td>52903040</td>\n",
              "      <td>0.52</td>\n",
              "      <td>1.0</td>\n",
              "    </tr>\n",
              "    <tr>\n",
              "      <th>2015-08-07 00:00:00+00:00</th>\n",
              "      <td>115.52</td>\n",
              "      <td>116.25</td>\n",
              "      <td>114.500</td>\n",
              "      <td>114.58</td>\n",
              "      <td>38670405</td>\n",
              "      <td>106.935199</td>\n",
              "      <td>107.610949</td>\n",
              "      <td>105.990999</td>\n",
              "      <td>106.065054</td>\n",
              "      <td>38670405</td>\n",
              "      <td>0.00</td>\n",
              "      <td>1.0</td>\n",
              "    </tr>\n",
              "  </tbody>\n",
              "</table>\n",
              "</div>"
            ],
            "text/plain": [
              "                                   close    high  ...  divCash  splitFactor\n",
              "symbol date                                       ...                      \n",
              "AAPL   2015-08-03 00:00:00+00:00  118.44  122.57  ...     0.00          1.0\n",
              "       2015-08-04 00:00:00+00:00  114.64  117.70  ...     0.00          1.0\n",
              "       2015-08-05 00:00:00+00:00  115.40  117.44  ...     0.00          1.0\n",
              "       2015-08-06 00:00:00+00:00  115.13  116.50  ...     0.52          1.0\n",
              "       2015-08-07 00:00:00+00:00  115.52  116.25  ...     0.00          1.0\n",
              "\n",
              "[5 rows x 12 columns]"
            ]
          },
          "metadata": {
            "tags": []
          },
          "execution_count": 3
        }
      ]
    },
    {
      "cell_type": "code",
      "metadata": {
        "id": "SVDCmOGidKJO",
        "colab_type": "code",
        "colab": {}
      },
      "source": [
        "data.to_csv(\"AAPL.csv\")"
      ],
      "execution_count": null,
      "outputs": []
    },
    {
      "cell_type": "code",
      "metadata": {
        "id": "bZfSMr5vdWu1",
        "colab_type": "code",
        "colab": {}
      },
      "source": [
        "import pandas as pd\n",
        "data=pd.read_csv(\"AAPL.csv\")"
      ],
      "execution_count": null,
      "outputs": []
    },
    {
      "cell_type": "code",
      "metadata": {
        "id": "p8OrZ0F9dfBX",
        "colab_type": "code",
        "colab": {
          "base_uri": "https://localhost:8080/",
          "height": 204
        },
        "outputId": "45b43bb6-cbe6-4587-9fa5-291f49517f8c"
      },
      "source": [
        "data.head()"
      ],
      "execution_count": null,
      "outputs": [
        {
          "output_type": "execute_result",
          "data": {
            "text/html": [
              "<div>\n",
              "<style scoped>\n",
              "    .dataframe tbody tr th:only-of-type {\n",
              "        vertical-align: middle;\n",
              "    }\n",
              "\n",
              "    .dataframe tbody tr th {\n",
              "        vertical-align: top;\n",
              "    }\n",
              "\n",
              "    .dataframe thead th {\n",
              "        text-align: right;\n",
              "    }\n",
              "</style>\n",
              "<table border=\"1\" class=\"dataframe\">\n",
              "  <thead>\n",
              "    <tr style=\"text-align: right;\">\n",
              "      <th></th>\n",
              "      <th>symbol</th>\n",
              "      <th>date</th>\n",
              "      <th>close</th>\n",
              "      <th>high</th>\n",
              "      <th>low</th>\n",
              "      <th>open</th>\n",
              "      <th>volume</th>\n",
              "      <th>adjClose</th>\n",
              "      <th>adjHigh</th>\n",
              "      <th>adjLow</th>\n",
              "      <th>adjOpen</th>\n",
              "      <th>adjVolume</th>\n",
              "      <th>divCash</th>\n",
              "      <th>splitFactor</th>\n",
              "    </tr>\n",
              "  </thead>\n",
              "  <tbody>\n",
              "    <tr>\n",
              "      <th>0</th>\n",
              "      <td>AAPL</td>\n",
              "      <td>2015-08-03 00:00:00+00:00</td>\n",
              "      <td>118.44</td>\n",
              "      <td>122.57</td>\n",
              "      <td>117.520</td>\n",
              "      <td>121.50</td>\n",
              "      <td>69975968</td>\n",
              "      <td>109.145232</td>\n",
              "      <td>112.951123</td>\n",
              "      <td>108.297430</td>\n",
              "      <td>111.965093</td>\n",
              "      <td>69975968</td>\n",
              "      <td>0.00</td>\n",
              "      <td>1.0</td>\n",
              "    </tr>\n",
              "    <tr>\n",
              "      <th>1</th>\n",
              "      <td>AAPL</td>\n",
              "      <td>2015-08-04 00:00:00+00:00</td>\n",
              "      <td>114.64</td>\n",
              "      <td>117.70</td>\n",
              "      <td>113.250</td>\n",
              "      <td>117.42</td>\n",
              "      <td>124138623</td>\n",
              "      <td>105.643443</td>\n",
              "      <td>108.463304</td>\n",
              "      <td>104.362525</td>\n",
              "      <td>108.205278</td>\n",
              "      <td>124138623</td>\n",
              "      <td>0.00</td>\n",
              "      <td>1.0</td>\n",
              "    </tr>\n",
              "    <tr>\n",
              "      <th>2</th>\n",
              "      <td>AAPL</td>\n",
              "      <td>2015-08-05 00:00:00+00:00</td>\n",
              "      <td>115.40</td>\n",
              "      <td>117.44</td>\n",
              "      <td>112.100</td>\n",
              "      <td>112.95</td>\n",
              "      <td>98384461</td>\n",
              "      <td>106.343801</td>\n",
              "      <td>108.223708</td>\n",
              "      <td>103.302773</td>\n",
              "      <td>104.086068</td>\n",
              "      <td>98384461</td>\n",
              "      <td>0.00</td>\n",
              "      <td>1.0</td>\n",
              "    </tr>\n",
              "    <tr>\n",
              "      <th>3</th>\n",
              "      <td>AAPL</td>\n",
              "      <td>2015-08-06 00:00:00+00:00</td>\n",
              "      <td>115.13</td>\n",
              "      <td>116.50</td>\n",
              "      <td>114.115</td>\n",
              "      <td>115.97</td>\n",
              "      <td>52903040</td>\n",
              "      <td>106.574181</td>\n",
              "      <td>107.842371</td>\n",
              "      <td>105.634610</td>\n",
              "      <td>107.351757</td>\n",
              "      <td>52903040</td>\n",
              "      <td>0.52</td>\n",
              "      <td>1.0</td>\n",
              "    </tr>\n",
              "    <tr>\n",
              "      <th>4</th>\n",
              "      <td>AAPL</td>\n",
              "      <td>2015-08-07 00:00:00+00:00</td>\n",
              "      <td>115.52</td>\n",
              "      <td>116.25</td>\n",
              "      <td>114.500</td>\n",
              "      <td>114.58</td>\n",
              "      <td>38670405</td>\n",
              "      <td>106.935199</td>\n",
              "      <td>107.610949</td>\n",
              "      <td>105.990999</td>\n",
              "      <td>106.065054</td>\n",
              "      <td>38670405</td>\n",
              "      <td>0.00</td>\n",
              "      <td>1.0</td>\n",
              "    </tr>\n",
              "  </tbody>\n",
              "</table>\n",
              "</div>"
            ],
            "text/plain": [
              "  symbol                       date   close  ...  adjVolume  divCash  splitFactor\n",
              "0   AAPL  2015-08-03 00:00:00+00:00  118.44  ...   69975968     0.00          1.0\n",
              "1   AAPL  2015-08-04 00:00:00+00:00  114.64  ...  124138623     0.00          1.0\n",
              "2   AAPL  2015-08-05 00:00:00+00:00  115.40  ...   98384461     0.00          1.0\n",
              "3   AAPL  2015-08-06 00:00:00+00:00  115.13  ...   52903040     0.52          1.0\n",
              "4   AAPL  2015-08-07 00:00:00+00:00  115.52  ...   38670405     0.00          1.0\n",
              "\n",
              "[5 rows x 14 columns]"
            ]
          },
          "metadata": {
            "tags": []
          },
          "execution_count": 6
        }
      ]
    },
    {
      "cell_type": "code",
      "metadata": {
        "id": "XYjVJUu9djtD",
        "colab_type": "code",
        "colab": {
          "base_uri": "https://localhost:8080/",
          "height": 34
        },
        "outputId": "03db2f78-9002-4f51-9aeb-97fa33f7a85c"
      },
      "source": [
        "data.shape"
      ],
      "execution_count": null,
      "outputs": [
        {
          "output_type": "execute_result",
          "data": {
            "text/plain": [
              "(1257, 14)"
            ]
          },
          "metadata": {
            "tags": []
          },
          "execution_count": 7
        }
      ]
    },
    {
      "cell_type": "code",
      "metadata": {
        "id": "4kJi-R_hdwo1",
        "colab_type": "code",
        "colab": {}
      },
      "source": [
        "data1=data.reset_index()[\"close\"]"
      ],
      "execution_count": null,
      "outputs": []
    },
    {
      "cell_type": "code",
      "metadata": {
        "id": "gyQi5MhJeeKn",
        "colab_type": "code",
        "colab": {
          "base_uri": "https://localhost:8080/",
          "height": 119
        },
        "outputId": "42c9627a-3bcd-49ac-85c5-c1cd25e49543"
      },
      "source": [
        "data1.tail()"
      ],
      "execution_count": null,
      "outputs": [
        {
          "output_type": "execute_result",
          "data": {
            "text/plain": [
              "1252    371.38\n",
              "1253    370.46\n",
              "1254    379.24\n",
              "1255    373.01\n",
              "1256    380.16\n",
              "Name: close, dtype: float64"
            ]
          },
          "metadata": {
            "tags": []
          },
          "execution_count": 9
        }
      ]
    },
    {
      "cell_type": "code",
      "metadata": {
        "id": "1nwRJCmjef4W",
        "colab_type": "code",
        "colab": {
          "base_uri": "https://localhost:8080/",
          "height": 445
        },
        "outputId": "dcabac6b-e382-4c44-f322-c45311ca9f0a"
      },
      "source": [
        "%matplotlib inline\n",
        "import matplotlib.pyplot as plt\n",
        "plt.figure(figsize=(10,7))\n",
        "plt.plot(data1)"
      ],
      "execution_count": null,
      "outputs": [
        {
          "output_type": "execute_result",
          "data": {
            "text/plain": [
              "[<matplotlib.lines.Line2D at 0x7fde2aba7e48>]"
            ]
          },
          "metadata": {
            "tags": []
          },
          "execution_count": 10
        },
        {
          "output_type": "display_data",
          "data": {
            "image/png": "[encoded data removed]",
            "text/plain": [
              "<Figure size 720x504 with 1 Axes>"
            ]
          },
          "metadata": {
            "tags": [],
            "needs_background": "light"
          }
        }
      ]
    },
    {
      "cell_type": "code",
      "metadata": {
        "id": "daAx1eipewsh",
        "colab_type": "code",
        "colab": {}
      },
      "source": [
        "import numpy as np\n",
        "from sklearn.preprocessing import MinMaxScaler"
      ],
      "execution_count": null,
      "outputs": []
    },
    {
      "cell_type": "code",
      "metadata": {
        "id": "dj5ATJdEflDH",
        "colab_type": "code",
        "colab": {}
      },
      "source": [
        "scaler=MinMaxScaler(feature_range=(0,1))\n"
      ],
      "execution_count": null,
      "outputs": []
    },
    {
      "cell_type": "code",
      "metadata": {
        "id": "GpCqsW1HfuUc",
        "colab_type": "code",
        "colab": {}
      },
      "source": [
        "df1=scaler.fit_transform(np.array(data1).reshape(-1,1))"
      ],
      "execution_count": null,
      "outputs": []
    },
    {
      "cell_type": "code",
      "metadata": {
        "id": "KCZYYXENf_En",
        "colab_type": "code",
        "colab": {
          "base_uri": "https://localhost:8080/",
          "height": 136
        },
        "outputId": "ec15e7bc-cba3-42e0-e193-c398504926c9"
      },
      "source": [
        "df1"
      ],
      "execution_count": null,
      "outputs": [
        {
          "output_type": "execute_result",
          "data": {
            "text/plain": [
              "array([[0.09271174],\n",
              "       [0.08017421],\n",
              "       [0.08268171],\n",
              "       ...,\n",
              "       [0.95318222],\n",
              "       [0.93262727],\n",
              "       [0.95621763]])"
            ]
          },
          "metadata": {
            "tags": []
          },
          "execution_count": 14
        }
      ]
    },
    {
      "cell_type": "code",
      "metadata": {
        "id": "F75cPqFcgAD9",
        "colab_type": "code",
        "colab": {}
      },
      "source": [
        "def create_dataset(dataset, look_back=100):\n",
        "\tdataX, dataY = [], []\n",
        "\tfor i in range(len(dataset)-look_back-1):\n",
        "\t\ta = dataset[i:(i+look_back), 0]\n",
        "\t\tdataX.append(a)\n",
        "\t\tdataY.append(dataset[i + look_back, 0])\n",
        "\treturn numpy.array(dataX), numpy.array(dataY)"
      ],
      "execution_count": null,
      "outputs": []
    },
    {
      "cell_type": "code",
      "metadata": {
        "id": "f9V_5rR7LBO4",
        "colab_type": "code",
        "colab": {
          "base_uri": "https://localhost:8080/",
          "height": 34
        },
        "outputId": "b670cd5c-4aa2-4693-b1a8-e4b8367de380"
      },
      "source": [
        "dataset=df1\n",
        "train_size = int(len(dataset) * 0.67)\n",
        "test_size = len(dataset) - train_size\n",
        "train, test = dataset[0:train_size,:], dataset[train_size:len(dataset),:]\n",
        "print(len(train), len(test))"
      ],
      "execution_count": null,
      "outputs": [
        {
          "output_type": "stream",
          "text": [
            "842 415\n"
          ],
          "name": "stdout"
        }
      ]
    },
    {
      "cell_type": "code",
      "metadata": {
        "id": "28DZ3hgXL8BN",
        "colab_type": "code",
        "colab": {}
      },
      "source": [
        "X_train,y_train=create_dataset(train)"
      ],
      "execution_count": null,
      "outputs": []
    },
    {
      "cell_type": "code",
      "metadata": {
        "id": "Fjqn7hDsMFky",
        "colab_type": "code",
        "colab": {}
      },
      "source": [
        "X_test,y_test=create_dataset(test)"
      ],
      "execution_count": null,
      "outputs": []
    },
    {
      "cell_type": "code",
      "metadata": {
        "id": "3AlH6Q0dMfWf",
        "colab_type": "code",
        "colab": {}
      },
      "source": [
        "#reshape input samples to 3dimensions (lstm required that)"
      ],
      "execution_count": null,
      "outputs": []
    },
    {
      "cell_type": "code",
      "metadata": {
        "id": "YFBrGgc0M2Qg",
        "colab_type": "code",
        "colab": {}
      },
      "source": [
        "X_train=X_train.reshape(X_train.shape[0],X_train.shape[1],1)\n",
        "X_test=X_test.reshape(X_test.shape[0],X_test.shape[1],1)"
      ],
      "execution_count": null,
      "outputs": []
    },
    {
      "cell_type": "code",
      "metadata": {
        "id": "pNSSSl7dNH-d",
        "colab_type": "code",
        "colab": {}
      },
      "source": [
        "#stack lstm model\n",
        "from tensorflow.keras.models import Sequential\n",
        "from tensorflow.keras.layers import LSTM,Dense"
      ],
      "execution_count": null,
      "outputs": []
    },
    {
      "cell_type": "code",
      "metadata": {
        "id": "cf_uZuoDN19M",
        "colab_type": "code",
        "colab": {}
      },
      "source": [
        "model=Sequential()"
      ],
      "execution_count": null,
      "outputs": []
    },
    {
      "cell_type": "code",
      "metadata": {
        "id": "uankSxL2O4JI",
        "colab_type": "code",
        "colab": {}
      },
      "source": [
        "model.add(LSTM(50,return_sequences=True,input_shape=(100,1)))\n",
        "model.add(LSTM(50,return_sequences=True))\n",
        "model.add(LSTM(50))\n",
        "model.add(Dense(1))\n",
        "model.compile(optimizer=\"adam\",loss=\"mean_squared_error\",metrics=\"accuracy\")"
      ],
      "execution_count": null,
      "outputs": []
    },
    {
      "cell_type": "markdown",
      "metadata": {
        "id": "hrgNOveWQ-Au",
        "colab_type": "text"
      },
      "source": [
        ""
      ]
    },
    {
      "cell_type": "code",
      "metadata": {
        "id": "4XGCKvRRP4Q4",
        "colab_type": "code",
        "colab": {
          "base_uri": "https://localhost:8080/",
          "height": 289
        },
        "outputId": "4451bcce-cefe-4a46-8b99-3012ed23606f"
      },
      "source": [
        "model.summary()"
      ],
      "execution_count": null,
      "outputs": [
        {
          "output_type": "stream",
          "text": [
            "Model: \"sequential\"\n",
            "_________________________________________________________________\n",
            "Layer (type)                 Output Shape              Param #   \n",
            "=================================================================\n",
            "lstm (LSTM)                  (None, 100, 50)           10400     \n",
            "_________________________________________________________________\n",
            "lstm_1 (LSTM)                (None, 100, 50)           20200     \n",
            "_________________________________________________________________\n",
            "lstm_2 (LSTM)                (None, 50)                20200     \n",
            "_________________________________________________________________\n",
            "dense (Dense)                (None, 1)                 51        \n",
            "=================================================================\n",
            "Total params: 50,851\n",
            "Trainable params: 50,851\n",
            "Non-trainable params: 0\n",
            "_________________________________________________________________\n"
          ],
          "name": "stdout"
        }
      ]
    },
    {
      "cell_type": "code",
      "metadata": {
        "id": "bdmIuwcJQGgI",
        "colab_type": "code",
        "colab": {
          "base_uri": "https://localhost:8080/",
          "height": 1000
        },
        "outputId": "d39e2906-cf2f-4363-d9a3-d54f8f9b6027"
      },
      "source": [
        "model.fit(X_train,y_train,validation_data=(X_test,y_test),batch_size=64,epochs=100,verbose=1)"
      ],
      "execution_count": null,
      "outputs": [
        {
          "output_type": "stream",
          "text": [
            "Epoch 1/100\n",
            "12/12 [==============================] - 3s 230ms/step - loss: 0.0161 - accuracy: 0.0013 - val_loss: 0.0552 - val_accuracy: 0.0032\n",
            "Epoch 2/100\n",
            "12/12 [==============================] - 2s 142ms/step - loss: 0.0031 - accuracy: 0.0013 - val_loss: 0.0038 - val_accuracy: 0.0032\n",
            "Epoch 3/100\n",
            "12/12 [==============================] - 2s 139ms/step - loss: 8.7118e-04 - accuracy: 0.0013 - val_loss: 0.0046 - val_accuracy: 0.0032\n",
            "Epoch 4/100\n",
            "12/12 [==============================] - 2s 140ms/step - loss: 7.0102e-04 - accuracy: 0.0013 - val_loss: 0.0035 - val_accuracy: 0.0032\n",
            "Epoch 5/100\n",
            "12/12 [==============================] - 2s 141ms/step - loss: 6.0742e-04 - accuracy: 0.0013 - val_loss: 0.0036 - val_accuracy: 0.0032\n",
            "Epoch 6/100\n",
            "12/12 [==============================] - 2s 144ms/step - loss: 5.5413e-04 - accuracy: 0.0013 - val_loss: 0.0034 - val_accuracy: 0.0032\n",
            "Epoch 7/100\n",
            "12/12 [==============================] - 2s 143ms/step - loss: 5.6835e-04 - accuracy: 0.0013 - val_loss: 0.0046 - val_accuracy: 0.0032\n",
            "Epoch 8/100\n",
            "12/12 [==============================] - 2s 142ms/step - loss: 5.3930e-04 - accuracy: 0.0013 - val_loss: 0.0038 - val_accuracy: 0.0032\n",
            "Epoch 9/100\n",
            "12/12 [==============================] - 2s 142ms/step - loss: 5.2767e-04 - accuracy: 0.0013 - val_loss: 0.0049 - val_accuracy: 0.0032\n",
            "Epoch 10/100\n",
            "12/12 [==============================] - 2s 143ms/step - loss: 4.8532e-04 - accuracy: 0.0013 - val_loss: 0.0046 - val_accuracy: 0.0032\n",
            "Epoch 11/100\n",
            "12/12 [==============================] - 2s 141ms/step - loss: 4.4832e-04 - accuracy: 0.0013 - val_loss: 0.0045 - val_accuracy: 0.0032\n",
            "Epoch 12/100\n",
            "12/12 [==============================] - 2s 142ms/step - loss: 4.4272e-04 - accuracy: 0.0013 - val_loss: 0.0045 - val_accuracy: 0.0032\n",
            "Epoch 13/100\n",
            "12/12 [==============================] - 2s 143ms/step - loss: 4.2008e-04 - accuracy: 0.0013 - val_loss: 0.0054 - val_accuracy: 0.0032\n",
            "Epoch 14/100\n",
            "12/12 [==============================] - 2s 142ms/step - loss: 3.8870e-04 - accuracy: 0.0013 - val_loss: 0.0058 - val_accuracy: 0.0032\n",
            "Epoch 15/100\n",
            "12/12 [==============================] - 2s 141ms/step - loss: 3.8775e-04 - accuracy: 0.0013 - val_loss: 0.0063 - val_accuracy: 0.0032\n",
            "Epoch 16/100\n",
            "12/12 [==============================] - 2s 141ms/step - loss: 3.8555e-04 - accuracy: 0.0013 - val_loss: 0.0075 - val_accuracy: 0.0032\n",
            "Epoch 17/100\n",
            "12/12 [==============================] - 2s 143ms/step - loss: 3.5712e-04 - accuracy: 0.0013 - val_loss: 0.0048 - val_accuracy: 0.0032\n",
            "Epoch 18/100\n",
            "12/12 [==============================] - 2s 144ms/step - loss: 3.5175e-04 - accuracy: 0.0013 - val_loss: 0.0082 - val_accuracy: 0.0032\n",
            "Epoch 19/100\n",
            "12/12 [==============================] - 2s 140ms/step - loss: 3.4053e-04 - accuracy: 0.0013 - val_loss: 0.0043 - val_accuracy: 0.0032\n",
            "Epoch 20/100\n",
            "12/12 [==============================] - 2s 139ms/step - loss: 3.5556e-04 - accuracy: 0.0013 - val_loss: 0.0070 - val_accuracy: 0.0032\n",
            "Epoch 21/100\n",
            "12/12 [==============================] - 2s 143ms/step - loss: 3.6084e-04 - accuracy: 0.0013 - val_loss: 0.0044 - val_accuracy: 0.0032\n",
            "Epoch 22/100\n",
            "12/12 [==============================] - 2s 142ms/step - loss: 3.0701e-04 - accuracy: 0.0013 - val_loss: 0.0058 - val_accuracy: 0.0032\n",
            "Epoch 23/100\n",
            "12/12 [==============================] - 2s 141ms/step - loss: 2.9836e-04 - accuracy: 0.0013 - val_loss: 0.0060 - val_accuracy: 0.0032\n",
            "Epoch 24/100\n",
            "12/12 [==============================] - 2s 142ms/step - loss: 3.1493e-04 - accuracy: 0.0013 - val_loss: 0.0040 - val_accuracy: 0.0032\n",
            "Epoch 25/100\n",
            "12/12 [==============================] - 2s 139ms/step - loss: 3.0042e-04 - accuracy: 0.0013 - val_loss: 0.0036 - val_accuracy: 0.0032\n",
            "Epoch 26/100\n",
            "12/12 [==============================] - 2s 140ms/step - loss: 2.9049e-04 - accuracy: 0.0013 - val_loss: 0.0039 - val_accuracy: 0.0032\n",
            "Epoch 27/100\n",
            "12/12 [==============================] - 2s 141ms/step - loss: 2.9957e-04 - accuracy: 0.0013 - val_loss: 0.0024 - val_accuracy: 0.0032\n",
            "Epoch 28/100\n",
            "12/12 [==============================] - 2s 140ms/step - loss: 2.8218e-04 - accuracy: 0.0013 - val_loss: 0.0031 - val_accuracy: 0.0032\n",
            "Epoch 29/100\n",
            "12/12 [==============================] - 2s 140ms/step - loss: 2.6887e-04 - accuracy: 0.0013 - val_loss: 0.0025 - val_accuracy: 0.0032\n",
            "Epoch 30/100\n",
            "12/12 [==============================] - 2s 140ms/step - loss: 2.9004e-04 - accuracy: 0.0013 - val_loss: 0.0059 - val_accuracy: 0.0032\n",
            "Epoch 31/100\n",
            "12/12 [==============================] - 2s 141ms/step - loss: 2.6267e-04 - accuracy: 0.0013 - val_loss: 0.0031 - val_accuracy: 0.0032\n",
            "Epoch 32/100\n",
            "12/12 [==============================] - 2s 139ms/step - loss: 2.6660e-04 - accuracy: 0.0013 - val_loss: 0.0033 - val_accuracy: 0.0032\n",
            "Epoch 33/100\n",
            "12/12 [==============================] - 2s 140ms/step - loss: 2.5358e-04 - accuracy: 0.0013 - val_loss: 0.0025 - val_accuracy: 0.0032\n",
            "Epoch 34/100\n",
            "12/12 [==============================] - 2s 140ms/step - loss: 2.6750e-04 - accuracy: 0.0013 - val_loss: 0.0043 - val_accuracy: 0.0032\n",
            "Epoch 35/100\n",
            "12/12 [==============================] - 2s 139ms/step - loss: 2.7325e-04 - accuracy: 0.0013 - val_loss: 0.0025 - val_accuracy: 0.0032\n",
            "Epoch 36/100\n",
            "12/12 [==============================] - 2s 141ms/step - loss: 2.4491e-04 - accuracy: 0.0013 - val_loss: 0.0036 - val_accuracy: 0.0032\n",
            "Epoch 37/100\n",
            "12/12 [==============================] - 2s 140ms/step - loss: 2.4606e-04 - accuracy: 0.0013 - val_loss: 0.0031 - val_accuracy: 0.0032\n",
            "Epoch 38/100\n",
            "12/12 [==============================] - 2s 141ms/step - loss: 2.5049e-04 - accuracy: 0.0013 - val_loss: 0.0037 - val_accuracy: 0.0032\n",
            "Epoch 39/100\n",
            "12/12 [==============================] - 2s 142ms/step - loss: 2.3928e-04 - accuracy: 0.0013 - val_loss: 0.0027 - val_accuracy: 0.0032\n",
            "Epoch 40/100\n",
            "12/12 [==============================] - 2s 142ms/step - loss: 2.4213e-04 - accuracy: 0.0013 - val_loss: 0.0028 - val_accuracy: 0.0032\n",
            "Epoch 41/100\n",
            "12/12 [==============================] - 2s 142ms/step - loss: 2.3328e-04 - accuracy: 0.0013 - val_loss: 0.0040 - val_accuracy: 0.0032\n",
            "Epoch 42/100\n",
            "12/12 [==============================] - 2s 143ms/step - loss: 2.3184e-04 - accuracy: 0.0013 - val_loss: 0.0024 - val_accuracy: 0.0032\n",
            "Epoch 43/100\n",
            "12/12 [==============================] - 2s 143ms/step - loss: 2.2373e-04 - accuracy: 0.0013 - val_loss: 0.0039 - val_accuracy: 0.0032\n",
            "Epoch 44/100\n",
            "12/12 [==============================] - 2s 143ms/step - loss: 2.4533e-04 - accuracy: 0.0013 - val_loss: 0.0032 - val_accuracy: 0.0032\n",
            "Epoch 45/100\n",
            "12/12 [==============================] - 2s 143ms/step - loss: 2.4705e-04 - accuracy: 0.0013 - val_loss: 0.0040 - val_accuracy: 0.0032\n",
            "Epoch 46/100\n",
            "12/12 [==============================] - 2s 143ms/step - loss: 2.5939e-04 - accuracy: 0.0013 - val_loss: 0.0028 - val_accuracy: 0.0032\n",
            "Epoch 47/100\n",
            "12/12 [==============================] - 2s 147ms/step - loss: 2.3067e-04 - accuracy: 0.0013 - val_loss: 0.0019 - val_accuracy: 0.0032\n",
            "Epoch 48/100\n",
            "12/12 [==============================] - 2s 147ms/step - loss: 2.5381e-04 - accuracy: 0.0013 - val_loss: 0.0029 - val_accuracy: 0.0032\n",
            "Epoch 49/100\n",
            "12/12 [==============================] - 2s 145ms/step - loss: 2.4135e-04 - accuracy: 0.0013 - val_loss: 0.0031 - val_accuracy: 0.0032\n",
            "Epoch 50/100\n",
            "12/12 [==============================] - 2s 143ms/step - loss: 2.1371e-04 - accuracy: 0.0013 - val_loss: 0.0050 - val_accuracy: 0.0032\n",
            "Epoch 51/100\n",
            "12/12 [==============================] - 2s 145ms/step - loss: 2.2169e-04 - accuracy: 0.0013 - val_loss: 0.0026 - val_accuracy: 0.0032\n",
            "Epoch 52/100\n",
            "12/12 [==============================] - 2s 145ms/step - loss: 2.2205e-04 - accuracy: 0.0013 - val_loss: 0.0045 - val_accuracy: 0.0032\n",
            "Epoch 53/100\n",
            "12/12 [==============================] - 2s 142ms/step - loss: 2.3318e-04 - accuracy: 0.0013 - val_loss: 0.0020 - val_accuracy: 0.0032\n",
            "Epoch 54/100\n",
            "12/12 [==============================] - 2s 142ms/step - loss: 2.4780e-04 - accuracy: 0.0013 - val_loss: 0.0045 - val_accuracy: 0.0032\n",
            "Epoch 55/100\n",
            "12/12 [==============================] - 2s 141ms/step - loss: 2.2579e-04 - accuracy: 0.0013 - val_loss: 0.0028 - val_accuracy: 0.0032\n",
            "Epoch 56/100\n",
            "12/12 [==============================] - 2s 144ms/step - loss: 2.1038e-04 - accuracy: 0.0013 - val_loss: 0.0038 - val_accuracy: 0.0032\n",
            "Epoch 57/100\n",
            "12/12 [==============================] - 2s 143ms/step - loss: 2.0897e-04 - accuracy: 0.0013 - val_loss: 0.0039 - val_accuracy: 0.0032\n",
            "Epoch 58/100\n",
            "12/12 [==============================] - 2s 142ms/step - loss: 2.0047e-04 - accuracy: 0.0013 - val_loss: 0.0055 - val_accuracy: 0.0032\n",
            "Epoch 59/100\n",
            "12/12 [==============================] - 2s 142ms/step - loss: 1.9855e-04 - accuracy: 0.0013 - val_loss: 0.0039 - val_accuracy: 0.0032\n",
            "Epoch 60/100\n",
            "12/12 [==============================] - 2s 142ms/step - loss: 2.0423e-04 - accuracy: 0.0013 - val_loss: 0.0025 - val_accuracy: 0.0032\n",
            "Epoch 61/100\n",
            "12/12 [==============================] - 2s 143ms/step - loss: 2.5055e-04 - accuracy: 0.0013 - val_loss: 0.0064 - val_accuracy: 0.0032\n",
            "Epoch 62/100\n",
            "12/12 [==============================] - 2s 142ms/step - loss: 2.0107e-04 - accuracy: 0.0013 - val_loss: 0.0017 - val_accuracy: 0.0032\n",
            "Epoch 63/100\n",
            "12/12 [==============================] - 2s 143ms/step - loss: 2.1826e-04 - accuracy: 0.0013 - val_loss: 0.0050 - val_accuracy: 0.0032\n",
            "Epoch 64/100\n",
            "12/12 [==============================] - 2s 145ms/step - loss: 1.8626e-04 - accuracy: 0.0013 - val_loss: 0.0058 - val_accuracy: 0.0032\n",
            "Epoch 65/100\n",
            "12/12 [==============================] - 2s 143ms/step - loss: 2.0092e-04 - accuracy: 0.0013 - val_loss: 0.0033 - val_accuracy: 0.0032\n",
            "Epoch 66/100\n",
            "12/12 [==============================] - 2s 144ms/step - loss: 1.8051e-04 - accuracy: 0.0013 - val_loss: 0.0039 - val_accuracy: 0.0032\n",
            "Epoch 67/100\n",
            "12/12 [==============================] - 2s 146ms/step - loss: 1.7936e-04 - accuracy: 0.0013 - val_loss: 0.0040 - val_accuracy: 0.0032\n",
            "Epoch 68/100\n",
            "12/12 [==============================] - 2s 143ms/step - loss: 1.8173e-04 - accuracy: 0.0013 - val_loss: 0.0052 - val_accuracy: 0.0032\n",
            "Epoch 69/100\n",
            "12/12 [==============================] - 2s 144ms/step - loss: 1.7699e-04 - accuracy: 0.0013 - val_loss: 0.0032 - val_accuracy: 0.0032\n",
            "Epoch 70/100\n",
            "12/12 [==============================] - 2s 144ms/step - loss: 1.7291e-04 - accuracy: 0.0013 - val_loss: 0.0029 - val_accuracy: 0.0032\n",
            "Epoch 71/100\n",
            "12/12 [==============================] - 2s 146ms/step - loss: 1.8400e-04 - accuracy: 0.0013 - val_loss: 0.0084 - val_accuracy: 0.0032\n",
            "Epoch 72/100\n",
            "12/12 [==============================] - 2s 144ms/step - loss: 2.0468e-04 - accuracy: 0.0013 - val_loss: 0.0055 - val_accuracy: 0.0032\n",
            "Epoch 73/100\n",
            "12/12 [==============================] - 2s 143ms/step - loss: 1.8294e-04 - accuracy: 0.0013 - val_loss: 0.0078 - val_accuracy: 0.0032\n",
            "Epoch 74/100\n",
            "12/12 [==============================] - 2s 145ms/step - loss: 1.7819e-04 - accuracy: 0.0013 - val_loss: 0.0044 - val_accuracy: 0.0032\n",
            "Epoch 75/100\n",
            "12/12 [==============================] - 2s 146ms/step - loss: 1.7652e-04 - accuracy: 0.0013 - val_loss: 0.0024 - val_accuracy: 0.0032\n",
            "Epoch 76/100\n",
            "12/12 [==============================] - 2s 144ms/step - loss: 1.9762e-04 - accuracy: 0.0013 - val_loss: 0.0017 - val_accuracy: 0.0032\n",
            "Epoch 77/100\n",
            "12/12 [==============================] - 2s 144ms/step - loss: 2.0962e-04 - accuracy: 0.0013 - val_loss: 0.0024 - val_accuracy: 0.0032\n",
            "Epoch 78/100\n",
            "12/12 [==============================] - 2s 143ms/step - loss: 1.9363e-04 - accuracy: 0.0013 - val_loss: 0.0058 - val_accuracy: 0.0032\n",
            "Epoch 79/100\n",
            "12/12 [==============================] - 2s 141ms/step - loss: 1.7605e-04 - accuracy: 0.0013 - val_loss: 0.0043 - val_accuracy: 0.0032\n",
            "Epoch 80/100\n",
            "12/12 [==============================] - 2s 143ms/step - loss: 1.7419e-04 - accuracy: 0.0013 - val_loss: 0.0056 - val_accuracy: 0.0032\n",
            "Epoch 81/100\n",
            "12/12 [==============================] - 2s 144ms/step - loss: 2.1086e-04 - accuracy: 0.0013 - val_loss: 0.0014 - val_accuracy: 0.0032\n",
            "Epoch 82/100\n",
            "12/12 [==============================] - 2s 142ms/step - loss: 1.8815e-04 - accuracy: 0.0013 - val_loss: 0.0064 - val_accuracy: 0.0032\n",
            "Epoch 83/100\n",
            "12/12 [==============================] - 2s 142ms/step - loss: 1.8464e-04 - accuracy: 0.0013 - val_loss: 0.0047 - val_accuracy: 0.0032\n",
            "Epoch 84/100\n",
            "12/12 [==============================] - 2s 144ms/step - loss: 1.9679e-04 - accuracy: 0.0013 - val_loss: 0.0017 - val_accuracy: 0.0032\n",
            "Epoch 85/100\n",
            "12/12 [==============================] - 2s 145ms/step - loss: 1.6563e-04 - accuracy: 0.0013 - val_loss: 0.0046 - val_accuracy: 0.0032\n",
            "Epoch 86/100\n",
            "12/12 [==============================] - 2s 144ms/step - loss: 1.5173e-04 - accuracy: 0.0013 - val_loss: 0.0038 - val_accuracy: 0.0032\n",
            "Epoch 87/100\n",
            "12/12 [==============================] - 2s 144ms/step - loss: 1.4685e-04 - accuracy: 0.0013 - val_loss: 0.0031 - val_accuracy: 0.0032\n",
            "Epoch 88/100\n",
            "12/12 [==============================] - 2s 145ms/step - loss: 1.4813e-04 - accuracy: 0.0013 - val_loss: 0.0038 - val_accuracy: 0.0032\n",
            "Epoch 89/100\n",
            "12/12 [==============================] - 2s 145ms/step - loss: 1.4223e-04 - accuracy: 0.0013 - val_loss: 0.0064 - val_accuracy: 0.0032\n",
            "Epoch 90/100\n",
            "12/12 [==============================] - 2s 143ms/step - loss: 1.5912e-04 - accuracy: 0.0013 - val_loss: 0.0030 - val_accuracy: 0.0032\n",
            "Epoch 91/100\n",
            "12/12 [==============================] - 2s 143ms/step - loss: 1.3977e-04 - accuracy: 0.0013 - val_loss: 0.0047 - val_accuracy: 0.0032\n",
            "Epoch 92/100\n",
            "12/12 [==============================] - 2s 144ms/step - loss: 1.4365e-04 - accuracy: 0.0013 - val_loss: 0.0063 - val_accuracy: 0.0032\n",
            "Epoch 93/100\n",
            "12/12 [==============================] - 2s 146ms/step - loss: 1.4805e-04 - accuracy: 0.0013 - val_loss: 0.0038 - val_accuracy: 0.0032\n",
            "Epoch 94/100\n",
            "12/12 [==============================] - 2s 142ms/step - loss: 1.3714e-04 - accuracy: 0.0013 - val_loss: 0.0045 - val_accuracy: 0.0032\n",
            "Epoch 95/100\n",
            "12/12 [==============================] - 2s 139ms/step - loss: 1.4437e-04 - accuracy: 0.0013 - val_loss: 0.0045 - val_accuracy: 0.0032\n",
            "Epoch 96/100\n",
            "12/12 [==============================] - 2s 141ms/step - loss: 1.3227e-04 - accuracy: 0.0013 - val_loss: 0.0034 - val_accuracy: 0.0032\n",
            "Epoch 97/100\n",
            "12/12 [==============================] - 2s 141ms/step - loss: 1.3985e-04 - accuracy: 0.0013 - val_loss: 0.0065 - val_accuracy: 0.0032\n",
            "Epoch 98/100\n",
            "12/12 [==============================] - 2s 142ms/step - loss: 1.6041e-04 - accuracy: 0.0013 - val_loss: 0.0036 - val_accuracy: 0.0032\n",
            "Epoch 99/100\n",
            "12/12 [==============================] - 2s 143ms/step - loss: 1.4343e-04 - accuracy: 0.0013 - val_loss: 0.0031 - val_accuracy: 0.0032\n",
            "Epoch 100/100\n",
            "12/12 [==============================] - 2s 142ms/step - loss: 1.5701e-04 - accuracy: 0.0013 - val_loss: 0.0078 - val_accuracy: 0.0032\n"
          ],
          "name": "stdout"
        },
        {
          "output_type": "execute_result",
          "data": {
            "text/plain": [
              "<tensorflow.python.keras.callbacks.History at 0x7fdddb1bf048>"
            ]
          },
          "metadata": {
            "tags": []
          },
          "execution_count": 25
        }
      ]
    },
    {
      "cell_type": "code",
      "metadata": {
        "id": "8hlXvetoQvHl",
        "colab_type": "code",
        "colab": {}
      },
      "source": [
        "X_train_predict=model.predict(X_train)\n",
        "X_test_predict=model.predict(X_test)"
      ],
      "execution_count": null,
      "outputs": []
    },
    {
      "cell_type": "code",
      "metadata": {
        "id": "qC8Co_NySLCF",
        "colab_type": "code",
        "colab": {}
      },
      "source": [
        "test_pred=scaler.inverse_transform(X_test_predict)\n",
        "train_pred=scaler.inverse_transform(X_train_predict)"
      ],
      "execution_count": null,
      "outputs": []
    },
    {
      "cell_type": "code",
      "metadata": {
        "id": "Y9iZwqrtSQY5",
        "colab_type": "code",
        "colab": {}
      },
      "source": [
        "from numpy import sqrt\n",
        "from sklearn.metrics import mean_squared_error"
      ],
      "execution_count": null,
      "outputs": []
    },
    {
      "cell_type": "code",
      "metadata": {
        "id": "FJvCRTgXSnwx",
        "colab_type": "code",
        "colab": {
          "base_uri": "https://localhost:8080/",
          "height": 34
        },
        "outputId": "50d85358-b185-4d09-c5fb-2c7aad0a8532"
      },
      "source": [
        "sqrt(mean_squared_error(test_pred,y_test)),sqrt(mean_squared_error(train_pred,y_train))\n"
      ],
      "execution_count": null,
      "outputs": [
        {
          "output_type": "execute_result",
          "data": {
            "text/plain": [
              "(246.24438965047955, 149.82961347372066)"
            ]
          },
          "metadata": {
            "tags": []
          },
          "execution_count": 41
        }
      ]
    },
    {
      "cell_type": "code",
      "metadata": {
        "id": "IqP8jD52TYLF",
        "colab_type": "code",
        "colab": {
          "base_uri": "https://localhost:8080/",
          "height": 265
        },
        "outputId": "a33987ce-4149-4c2f-aa30-66628a435cd6"
      },
      "source": [
        "import matplotlib.pylab as plt\n",
        "%matplotlib inline\n",
        "look_back=100\n",
        "trainPredict =train_pred\n",
        "testPredict = test_pred\n",
        "# shift train predictions for plotting\n",
        "trainPredictPlot = numpy.empty_like(dataset)\n",
        "trainPredictPlot[:, :] = numpy.nan\n",
        "trainPredictPlot[look_back:len(trainPredict)+look_back, :] = trainPredict\n",
        "# shift test predictions for plotting\n",
        "testPredictPlot = numpy.empty_like(dataset)\n",
        "testPredictPlot[:, :] = numpy.nan\n",
        "testPredictPlot[len(trainPredict)+(look_back*2)+1:len(dataset)-1, :] = testPredict\n",
        "# plot baseline and predictions\n",
        "plt.plot(scaler.inverse_transform(df1))\n",
        "plt.plot(dataset)\n",
        "plt.plot(trainPredictPlot)\n",
        "plt.plot(testPredictPlot)\n",
        "plt.show()"
      ],
      "execution_count": null,
      "outputs": [
        {
          "output_type": "display_data",
          "data": {
            "image/png": "[encoded data removed]",
            "text/plain": [
              "<Figure size 432x288 with 1 Axes>"
            ]
          },
          "metadata": {
            "tags": [],
            "needs_background": "light"
          }
        }
      ]
    },
    {
      "cell_type": "code",
      "metadata": {
        "id": "orhFP5hiVRqJ",
        "colab_type": "code",
        "colab": {
          "base_uri": "https://localhost:8080/",
          "height": 282
        },
        "outputId": "d833b37d-3f96-4e68-b1c4-378e17b39525"
      },
      "source": [
        ""
      ],
      "execution_count": null,
      "outputs": [
        {
          "output_type": "execute_result",
          "data": {
            "text/plain": [
              "[<matplotlib.lines.Line2D at 0x7fddd5d38cf8>]"
            ]
          },
          "metadata": {
            "tags": []
          },
          "execution_count": 55
        },
        {
          "output_type": "display_data",
          "data": {
            "image/png": "[encoded data removed]",
            "text/plain": [
              "<Figure size 432x288 with 1 Axes>"
            ]
          },
          "metadata": {
            "tags": [],
            "needs_background": "light"
          }
        }
      ]
    },
    {
      "cell_type": "code",
      "metadata": {
        "id": "SkxJ0mnUVr5M",
        "colab_type": "code",
        "colab": {}
      },
      "source": [
        ""
      ],
      "execution_count": null,
      "outputs": []
    }
  ]
}